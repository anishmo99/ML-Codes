{
 "nbformat": 4,
 "nbformat_minor": 0,
 "metadata": {
  "kernelspec": {
   "display_name": "Python 3",
   "language": "python",
   "name": "python3"
  },
  "language_info": {
   "codemirror_mode": {
    "name": "ipython",
    "version": 3
   },
   "file_extension": ".py",
   "mimetype": "text/x-python",
   "name": "python",
   "nbconvert_exporter": "python",
   "pygments_lexer": "ipython3",
   "version": "3.7.4"
  },
  "colab": {
   "name": "DataPreprocessing.ipynb",
   "provenance": []
  }
 },
 "cells": [
  {
   "cell_type": "code",
   "metadata": {
    "pycharm": {
     "name": "#%%\n"
    },
    "id": "GQw1juERVRxA",
    "colab_type": "code",
    "colab": {}
   },
   "source": [
    "#importing libraries\n",
    "import numpy as np\n",
    "import matplotlib.pyplot as plt\n",
    "import pandas as pd"
   ],
   "execution_count": 1,
   "outputs": []
  },
  {
   "cell_type": "code",
   "metadata": {
    "pycharm": {
     "name": "#%%\n"
    },
    "id": "iB55lF20VRxF",
    "colab_type": "code",
    "colab": {
     "base_uri": "https://localhost:8080/",
     "height": 409
    },
    "outputId": "cee54715-d758-49df-ba49-daa6b8801ea1",
    "executionInfo": {
     "status": "error",
     "timestamp": 1586543047666,
     "user_tz": -330,
     "elapsed": 878,
     "user": {
      "displayName": "Anish Mookherjee",
      "photoUrl": "https://lh3.googleusercontent.com/a-/AOh14GjlQOODbZpztm5fc54thlFaEQf9Hj6MpZVvaCX0loc=s64",
      "userId": "12167508502914545984"
     }
    }
   },
   "source": [
    "#import data\n",
    "dataset=pd.read_csv('Salary_Data.csv')\n",
    "x=dataset.iloc[:,:-1].values\n",
    "y=dataset.iloc[:,1].values"
   ],
   "execution_count": 2,
   "outputs": []
  },
  {
   "cell_type": "code",
   "metadata": {
    "pycharm": {
     "name": "#%%\n"
    },
    "id": "5KeXZUZLVRxI",
    "colab_type": "code",
    "colab": {}
   },
   "source": [
    "#splitting into test and train set\n",
    "from sklearn.model_selection import train_test_split\n",
    "x_train,x_test,y_train,y_test=train_test_split(x,y,test_size=1/3,random_state=0)"
   ],
   "execution_count": 3,
   "outputs": []
  },
  {
   "cell_type": "code",
   "metadata": {
    "pycharm": {
     "name": "#%%\n"
    },
    "id": "D2KM03J6VRxL",
    "colab_type": "code",
    "colab": {},
    "outputId": "d3fa64c7-d6a6-4c02-cbab-ac9c41327996"
   },
   "source": [
    "#feature scaling\n",
    "'''\n",
    "from sklearn.preprocessing import StandardScaler\n",
    "sc_x=StandardScaler()\n",
    "x_train=sc_x.fit_transform(x_train)\n",
    "x_test=sc_x.transform(x_test)\n",
    "sc_y=StandardScaler()\n",
    "y_train=sc_x.fit_transform(y_train)\n",
    "'''\n"
   ],
   "execution_count": 4,
   "outputs": [
    {
     "data": {
      "text/plain": "'\\nfrom sklearn.preprocessing import StandardScaler\\nsc_x=StandardScaler()\\nx_train=sc_x.fit_transform(x_train)\\nx_test=sc_x.transform(x_test)\\nsc_y=StandardScaler()\\ny_train=sc_x.fit_transform(y_train)\\n'"
     },
     "execution_count": 4,
     "metadata": {},
     "output_type": "execute_result"
    }
   ]
  },
  {
   "cell_type": "code",
   "metadata": {
    "pycharm": {
     "name": "#%%\n"
    },
    "id": "3NDZhmC0VRxP",
    "colab_type": "code",
    "colab": {}
   },
   "source": [
    "#import libraries\n",
    "import numpy as np\n",
    "import matplotlib.pyplot as plt\n",
    "import pandas as pd"
   ],
   "execution_count": 5,
   "outputs": []
  },
  {
   "cell_type": "code",
   "metadata": {
    "pycharm": {
     "name": "#%%\n"
    },
    "id": "8d-09-6qVRxU",
    "colab_type": "code",
    "colab": {}
   },
   "source": [
    "#import data\n",
    "\n",
    "dataset=pd.read_csv('Data.csv')\n",
    "\n",
    "dataset1=dataset.iloc[:,:-1]"
   ],
   "execution_count": 6,
   "outputs": []
  },
  {
   "cell_type": "code",
   "metadata": {
    "pycharm": {
     "name": "#%%\n"
    },
    "id": "4O5ha0M1VRxX",
    "colab_type": "code",
    "colab": {}
   },
   "source": [
    "#replacing missing value with mean\n",
    "\n",
    "dataset1['Age'].replace(np.nan,dataset1['Age'].astype('float').mean(),inplace=True)\n",
    "dataset1['Salary'].replace(np.nan,dataset1['Salary'].astype('float').mean(),inplace=True)"
   ],
   "execution_count": 7,
   "outputs": []
  },
  {
   "cell_type": "code",
   "metadata": {
    "pycharm": {
     "name": "#%%\n"
    },
    "id": "zZV6QD6-VRxa",
    "colab_type": "code",
    "colab": {}
   },
   "source": [
    "#using pandas getting OneHotEncoder\n",
    "\n",
    "#dummy for country\n",
    "\n",
    "dummy=pd.get_dummies(dataset['Country'])\n",
    "dataset1=pd.concat([dummy,dataset1],axis=1)\n",
    "dataset1.drop('Country',axis=1,inplace=True)"
   ],
   "execution_count": 8,
   "outputs": []
  },
  {
   "cell_type": "code",
   "metadata": {
    "pycharm": {
     "name": "#%%\n"
    },
    "id": "IRKiEZ1MVRxd",
    "colab_type": "code",
    "colab": {}
   },
   "source": [
    "#dummy for purchase\n",
    "\n",
    "y=pd.get_dummies(dataset['Purchased']).values\n",
    "y=y[:,0]\n",
    "x=dataset1.values"
   ],
   "execution_count": 9,
   "outputs": []
  },
  {
   "cell_type": "code",
   "metadata": {
    "pycharm": {
     "name": "#%%\n"
    },
    "id": "FObWGfX1VRxg",
    "colab_type": "code",
    "colab": {}
   },
   "source": [
    "#splitting dataset into training and test set\n",
    "\n",
    "from sklearn.model_selection import train_test_split \n",
    "x_train,x_test,y_train,y_test=train_test_split(x,y,test_size=0.2,random_state=0)"
   ],
   "execution_count": 10,
   "outputs": []
  },
  {
   "cell_type": "code",
   "metadata": {
    "pycharm": {
     "name": "#%%\n"
    },
    "id": "UFd7DVXlVRxi",
    "colab_type": "code",
    "colab": {}
   },
   "source": [
    "#data scaling\n",
    "\n",
    "from sklearn.preprocessing import StandardScaler\n",
    "sc_x=StandardScaler()\n",
    "x_train=sc_x.fit_transform(x_train)\n",
    "x_test=sc_x.transform(x_test)\n",
    "\n",
    "#no need for scaling y here as it is classification problem. Sometimes scaling of y may be required\n"
   ],
   "execution_count": 11,
   "outputs": []
  },
  {
   "cell_type": "code",
   "metadata": {
    "pycharm": {
     "name": "#%%\n"
    },
    "id": "bwuxhqivVRxl",
    "colab_type": "code",
    "colab": {
     "base_uri": "https://localhost:8080/",
     "height": 34
    },
    "outputId": "f12cfec7-b3e3-4c92-c94a-4c650c9a47de",
    "executionInfo": {
     "status": "ok",
     "timestamp": 1586543072619,
     "user_tz": -330,
     "elapsed": 1531,
     "user": {
      "displayName": "Anish Mookherjee",
      "photoUrl": "https://lh3.googleusercontent.com/a-/AOh14GjlQOODbZpztm5fc54thlFaEQf9Hj6MpZVvaCX0loc=s64",
      "userId": "12167508502914545984"
     }
    }
   },
   "source": [
    "\n",
    "#fit simple linear model into training set\n",
    "from sklearn.linear_model import LinearRegression\n",
    "regressor=LinearRegression()\n",
    "regressor.fit(x_train,y_train)\n",
    "\n"
   ],
   "execution_count": 12,
   "outputs": [
    {
     "data": {
      "text/plain": "LinearRegression(copy_X=True, fit_intercept=True, n_jobs=None, normalize=False)"
     },
     "execution_count": 12,
     "metadata": {},
     "output_type": "execute_result"
    }
   ]
  },
  {
   "cell_type": "code",
   "metadata": {
    "pycharm": {
     "name": "#%%\n"
    },
    "id": "s8TsnApdVRxq",
    "colab_type": "code",
    "colab": {}
   },
   "source": [],
   "execution_count": 12,
   "outputs": []
  },
  {
   "cell_type": "code",
   "execution_count": null,
   "outputs": [],
   "source": [
    "\n"
   ],
   "metadata": {
    "collapsed": false,
    "pycharm": {
     "name": "#%%\n"
    }
   }
  }
 ]
}