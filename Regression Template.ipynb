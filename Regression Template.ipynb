#%%

#importing libraries

import numpy as np
import matplotlib.pyplot as plt
import pandas as pd

#%%

#import data

dataset=pd.read_csv('Position_Salaries.csv')

#%%

x=dataset.iloc[:,1:2].values
y=dataset.iloc[:,2].values

#%%

#splitting into test and train set

'''from sklearn.model_selection import train_test_split
x_train,x_test,y_train,y_test=train_test_split(x,y,test_size=0.2,random_state=0)'''

#%%

#feature scaling

'''
from sklearn.preprocessing import StandardScaler
sc_x=StandardScaler()
x_train=sc_x.fit_transform(x_train)
x_test=sc_x.transform(x_test)
sc_y=StandardScaler()
y_train=sc_x.fit_transform(y_train)
'''

#%%

#fitting regression model into the dataset


#%%

#predicting new result with regression model

y_pred=regressor.predict(6.5)

#%%

#visualising regression results

plt.scatter(x,y,color='red')
plt.plot(x,regressor.predict(x),color='blue') #plt.plot(x,lin_reg2.predict(x_poly),color='blue')
plt.title('polynomial regression graph')
plt.xlabel('position levels')
plt.ylabel('salary')
plt.show()


#%%

#visualising regression results for higher resolution and smoother curve

x_grid=np.arange(min(x),max(x),0.1)
x_grid=x_grid.reshape(len(x_grid),1) #converts vector to matrix

plt.scatter(x,y,color='red');
plt.plot(x_grid,regressor.predict(x_grid),color='blue') #plt.plot(x,lin_reg2.predict(x_poly),color='blue')
plt.title('polynomial regression graph')
plt.xlabel('position levels')
plt.ylabel('salary')
plt.show()




